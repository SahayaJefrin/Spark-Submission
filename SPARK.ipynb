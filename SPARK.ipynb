{
 "cells": [
  {
   "cell_type": "markdown",
   "id": "78e6d28e",
   "metadata": {},
   "source": [
    "### GRIPNOVEMBER22\n",
    "### AUTHOR: SAHAYA JEFRIN M\n",
    "### TASK-1 : PREDICTION USING SUPERVISED MACHINE LEARNING\n",
    "   "
   ]
  },
  {
   "cell_type": "markdown",
   "id": "f86bb7d3",
   "metadata": {},
   "source": [
    "### 1. INTRODUCTION\n",
    "Supervised learning is a subcategory of machine learning and artificial intelligence. It is defined by its use of labeled datasets to train algorithms that to classify data or predict outcomes accurately.The linear regression model is a classical Supervised learning Algorithm.The goal of linear regression is to model the linear relationship between the explanatory (independent) variables and response (dependent) variable.The case of one independent variable is called simple linear regression."
   ]
  },
  {
   "cell_type": "markdown",
   "id": "bbe42224",
   "metadata": {},
   "source": [
    "### 2. OBJECTIVE\n",
    "i) To Predict the Percentage of the students based on the no of study hours    \n",
    "ii) To predict the precentage of student who studies for 9.25 hrs/day"
   ]
  },
  {
   "cell_type": "markdown",
   "id": "2b27949a",
   "metadata": {},
   "source": [
    "### 3. ANALYSIS"
   ]
  },
  {
   "cell_type": "code",
   "execution_count": 1,
   "id": "771d67eb",
   "metadata": {},
   "outputs": [],
   "source": [
    "# Importing required Package\n",
    "import pandas as pd\n",
    "import numpy as np\n",
    "import matplotlib.pyplot as plt\n",
    "import seaborn as sns "
   ]
  },
  {
   "cell_type": "code",
   "execution_count": 2,
   "id": "ee0b46f3",
   "metadata": {
    "scrolled": true
   },
   "outputs": [
    {
     "name": "stdout",
     "output_type": "stream",
     "text": [
      "Data imported successfully\n"
     ]
    }
   ],
   "source": [
    "#importing the dataset\n",
    "print(\"Data imported successfully\")\n",
    "data = pd.read_excel(\"GRIP_Data.xlsx\")"
   ]
  },
  {
   "cell_type": "code",
   "execution_count": 3,
   "id": "f4259d9f",
   "metadata": {},
   "outputs": [
    {
     "data": {
      "text/html": [
       "<div>\n",
       "<style scoped>\n",
       "    .dataframe tbody tr th:only-of-type {\n",
       "        vertical-align: middle;\n",
       "    }\n",
       "\n",
       "    .dataframe tbody tr th {\n",
       "        vertical-align: top;\n",
       "    }\n",
       "\n",
       "    .dataframe thead th {\n",
       "        text-align: right;\n",
       "    }\n",
       "</style>\n",
       "<table border=\"1\" class=\"dataframe\">\n",
       "  <thead>\n",
       "    <tr style=\"text-align: right;\">\n",
       "      <th></th>\n",
       "      <th>Hours</th>\n",
       "      <th>Scores</th>\n",
       "    </tr>\n",
       "  </thead>\n",
       "  <tbody>\n",
       "    <tr>\n",
       "      <th>0</th>\n",
       "      <td>2.5</td>\n",
       "      <td>21</td>\n",
       "    </tr>\n",
       "    <tr>\n",
       "      <th>1</th>\n",
       "      <td>5.1</td>\n",
       "      <td>47</td>\n",
       "    </tr>\n",
       "    <tr>\n",
       "      <th>2</th>\n",
       "      <td>3.2</td>\n",
       "      <td>27</td>\n",
       "    </tr>\n",
       "    <tr>\n",
       "      <th>3</th>\n",
       "      <td>8.5</td>\n",
       "      <td>75</td>\n",
       "    </tr>\n",
       "    <tr>\n",
       "      <th>4</th>\n",
       "      <td>3.5</td>\n",
       "      <td>30</td>\n",
       "    </tr>\n",
       "  </tbody>\n",
       "</table>\n",
       "</div>"
      ],
      "text/plain": [
       "   Hours  Scores\n",
       "0    2.5      21\n",
       "1    5.1      47\n",
       "2    3.2      27\n",
       "3    8.5      75\n",
       "4    3.5      30"
      ]
     },
     "execution_count": 3,
     "metadata": {},
     "output_type": "execute_result"
    }
   ],
   "source": [
    "data.head()"
   ]
  },
  {
   "cell_type": "markdown",
   "id": "b1e9dab2",
   "metadata": {},
   "source": [
    "### 4. Exploratory Data Analysis"
   ]
  },
  {
   "cell_type": "code",
   "execution_count": 4,
   "id": "516a6369",
   "metadata": {},
   "outputs": [
    {
     "data": {
      "text/plain": [
       "(25, 2)"
      ]
     },
     "execution_count": 4,
     "metadata": {},
     "output_type": "execute_result"
    }
   ],
   "source": [
    "# Dimension of dataset\n",
    "data.shape"
   ]
  },
  {
   "cell_type": "markdown",
   "id": "e2abf1ec",
   "metadata": {},
   "source": [
    "There are 25 obervations and 2 variables."
   ]
  },
  {
   "cell_type": "code",
   "execution_count": 5,
   "id": "b22663a2",
   "metadata": {},
   "outputs": [
    {
     "name": "stdout",
     "output_type": "stream",
     "text": [
      "<class 'pandas.core.frame.DataFrame'>\n",
      "RangeIndex: 25 entries, 0 to 24\n",
      "Data columns (total 2 columns):\n",
      " #   Column  Non-Null Count  Dtype  \n",
      "---  ------  --------------  -----  \n",
      " 0   Hours   25 non-null     float64\n",
      " 1   Scores  25 non-null     int64  \n",
      "dtypes: float64(1), int64(1)\n",
      "memory usage: 528.0 bytes\n"
     ]
    }
   ],
   "source": [
    "#checking missing values\n",
    "data.info()"
   ]
  },
  {
   "cell_type": "markdown",
   "id": "c106ccb0",
   "metadata": {},
   "source": [
    "It can be clearly seen there are no null values in the dataset."
   ]
  },
  {
   "cell_type": "code",
   "execution_count": 6,
   "id": "96bd281d",
   "metadata": {},
   "outputs": [
    {
     "data": {
      "text/html": [
       "<div>\n",
       "<style scoped>\n",
       "    .dataframe tbody tr th:only-of-type {\n",
       "        vertical-align: middle;\n",
       "    }\n",
       "\n",
       "    .dataframe tbody tr th {\n",
       "        vertical-align: top;\n",
       "    }\n",
       "\n",
       "    .dataframe thead th {\n",
       "        text-align: right;\n",
       "    }\n",
       "</style>\n",
       "<table border=\"1\" class=\"dataframe\">\n",
       "  <thead>\n",
       "    <tr style=\"text-align: right;\">\n",
       "      <th></th>\n",
       "      <th>Hours</th>\n",
       "      <th>Scores</th>\n",
       "    </tr>\n",
       "  </thead>\n",
       "  <tbody>\n",
       "    <tr>\n",
       "      <th>count</th>\n",
       "      <td>25.000000</td>\n",
       "      <td>25.000000</td>\n",
       "    </tr>\n",
       "    <tr>\n",
       "      <th>mean</th>\n",
       "      <td>5.012000</td>\n",
       "      <td>51.480000</td>\n",
       "    </tr>\n",
       "    <tr>\n",
       "      <th>std</th>\n",
       "      <td>2.525094</td>\n",
       "      <td>25.286887</td>\n",
       "    </tr>\n",
       "    <tr>\n",
       "      <th>min</th>\n",
       "      <td>1.100000</td>\n",
       "      <td>17.000000</td>\n",
       "    </tr>\n",
       "    <tr>\n",
       "      <th>25%</th>\n",
       "      <td>2.700000</td>\n",
       "      <td>30.000000</td>\n",
       "    </tr>\n",
       "    <tr>\n",
       "      <th>50%</th>\n",
       "      <td>4.800000</td>\n",
       "      <td>47.000000</td>\n",
       "    </tr>\n",
       "    <tr>\n",
       "      <th>75%</th>\n",
       "      <td>7.400000</td>\n",
       "      <td>75.000000</td>\n",
       "    </tr>\n",
       "    <tr>\n",
       "      <th>max</th>\n",
       "      <td>9.200000</td>\n",
       "      <td>95.000000</td>\n",
       "    </tr>\n",
       "  </tbody>\n",
       "</table>\n",
       "</div>"
      ],
      "text/plain": [
       "           Hours     Scores\n",
       "count  25.000000  25.000000\n",
       "mean    5.012000  51.480000\n",
       "std     2.525094  25.286887\n",
       "min     1.100000  17.000000\n",
       "25%     2.700000  30.000000\n",
       "50%     4.800000  47.000000\n",
       "75%     7.400000  75.000000\n",
       "max     9.200000  95.000000"
      ]
     },
     "execution_count": 6,
     "metadata": {},
     "output_type": "execute_result"
    }
   ],
   "source": [
    "data.describe()"
   ]
  },
  {
   "cell_type": "markdown",
   "id": "4e5b83bf",
   "metadata": {},
   "source": [
    "From the above descriptive measures, its inferred that the average no of hours the students study is 5 and their average score is 51.480000.It is also oberved that 50% of students spends 4.8 hours for studying.\n"
   ]
  },
  {
   "cell_type": "code",
   "execution_count": 7,
   "id": "5359ad9a",
   "metadata": {},
   "outputs": [],
   "source": [
    "x=data['Hours'] # Independent variable\n",
    "y=data['Scores'] # Dependent variable"
   ]
  },
  {
   "cell_type": "code",
   "execution_count": 8,
   "id": "b13bcae3",
   "metadata": {},
   "outputs": [
    {
     "data": {
      "text/html": [
       "<div>\n",
       "<style scoped>\n",
       "    .dataframe tbody tr th:only-of-type {\n",
       "        vertical-align: middle;\n",
       "    }\n",
       "\n",
       "    .dataframe tbody tr th {\n",
       "        vertical-align: top;\n",
       "    }\n",
       "\n",
       "    .dataframe thead th {\n",
       "        text-align: right;\n",
       "    }\n",
       "</style>\n",
       "<table border=\"1\" class=\"dataframe\">\n",
       "  <thead>\n",
       "    <tr style=\"text-align: right;\">\n",
       "      <th></th>\n",
       "      <th>Hours</th>\n",
       "      <th>Scores</th>\n",
       "    </tr>\n",
       "  </thead>\n",
       "  <tbody>\n",
       "    <tr>\n",
       "      <th>Hours</th>\n",
       "      <td>1.000000</td>\n",
       "      <td>0.976191</td>\n",
       "    </tr>\n",
       "    <tr>\n",
       "      <th>Scores</th>\n",
       "      <td>0.976191</td>\n",
       "      <td>1.000000</td>\n",
       "    </tr>\n",
       "  </tbody>\n",
       "</table>\n",
       "</div>"
      ],
      "text/plain": [
       "           Hours    Scores\n",
       "Hours   1.000000  0.976191\n",
       "Scores  0.976191  1.000000"
      ]
     },
     "execution_count": 8,
     "metadata": {},
     "output_type": "execute_result"
    }
   ],
   "source": [
    "data.corr() # Correlation"
   ]
  },
  {
   "cell_type": "markdown",
   "id": "1127607b",
   "metadata": {},
   "source": [
    "Since the correlation between hours and scores is close to 1,there exist a strong positive correlation between the variables.\n",
    "   "
   ]
  },
  {
   "cell_type": "markdown",
   "id": "b8e0fa55",
   "metadata": {},
   "source": [
    "#### 4.1 SCATTER PLOT"
   ]
  },
  {
   "cell_type": "code",
   "execution_count": 9,
   "id": "e09b118f",
   "metadata": {},
   "outputs": [
    {
     "data": {
      "image/png": "[encoded data removed]",
      "text/plain": [
       "<Figure size 640x480 with 1 Axes>"
      ]
     },
     "metadata": {},
     "output_type": "display_data"
    }
   ],
   "source": [
    "#### SCATTER PLOT\n",
    "plt.scatter(x, y)\n",
    "plt.ylabel('Percentage scored')\n",
    "plt.xlabel('Hours studied')\n",
    "plt.title('Hours vs Percentage')\n",
    "plt.show()"
   ]
  },
  {
   "cell_type": "markdown",
   "id": "1fe28908",
   "metadata": {},
   "source": [
    "From the above scatter plot ,it can be observed that there exist a **positive linear relationship between the number of hours studied and percentage of score**\n"
   ]
  },
  {
   "cell_type": "markdown",
   "id": "91ce58a4",
   "metadata": {},
   "source": [
    "#### 4.2 BOX PLOT"
   ]
  },
  {
   "cell_type": "code",
   "execution_count": 10,
   "id": "ad079c94",
   "metadata": {},
   "outputs": [
    {
     "name": "stderr",
     "output_type": "stream",
     "text": [
      "/opt/anaconda3/lib/python3.9/site-packages/seaborn/_decorators.py:36: FutureWarning: Pass the following variable as a keyword arg: x. From version 0.12, the only valid positional argument will be `data`, and passing other arguments without an explicit keyword will result in an error or misinterpretation.\n",
      "  warnings.warn(\n"
     ]
    },
    {
     "data": {
      "image/png": "[encoded data removed]",
      "text/plain": [
       "<Figure size 640x480 with 1 Axes>"
      ]
     },
     "metadata": {},
     "output_type": "display_data"
    }
   ],
   "source": [
    "sns.boxplot(x)\n",
    "plt.show()"
   ]
  },
  {
   "cell_type": "markdown",
   "id": "84fadd30",
   "metadata": {},
   "source": [
    "From the above box plot, it is observed that there are no outliers for the predictor variable.The minimum and the maximum number of hours the students study are 1.1 and 9.3 respectively.\n"
   ]
  },
  {
   "cell_type": "code",
   "execution_count": 11,
   "id": "98aeb20c",
   "metadata": {},
   "outputs": [
    {
     "name": "stderr",
     "output_type": "stream",
     "text": [
      "/opt/anaconda3/lib/python3.9/site-packages/seaborn/_decorators.py:36: FutureWarning: Pass the following variable as a keyword arg: x. From version 0.12, the only valid positional argument will be `data`, and passing other arguments without an explicit keyword will result in an error or misinterpretation.\n",
      "  warnings.warn(\n"
     ]
    },
    {
     "data": {
      "text/plain": [
       "<AxesSubplot:xlabel='Scores'>"
      ]
     },
     "execution_count": 11,
     "metadata": {},
     "output_type": "execute_result"
    },
    {
     "data": {
      "image/png": "[encoded data removed]",
      "text/plain": [
       "<Figure size 640x480 with 1 Axes>"
      ]
     },
     "metadata": {},
     "output_type": "display_data"
    }
   ],
   "source": [
    "sns.boxplot(y)"
   ]
  },
  {
   "cell_type": "markdown",
   "id": "6616a976",
   "metadata": {},
   "source": [
    "From the above box plot, it is observed that there are no outliers for the dependent variable.The minimum and the maximum percentage scored by the students are 17% and 94% respectively.It is observed that the scores are positively skewed."
   ]
  },
  {
   "cell_type": "markdown",
   "id": "3ede0b62",
   "metadata": {},
   "source": [
    "### 5. PREPARING THE DATA\n",
    "#### 5.1 Splitting the Data into Training and Testing Sets\n",
    "Now we will split our data into training and testing sets. Using the training set, we will build the model and perform the model on the testing set. We will divide the training and testing sets into a 80% and 20% ratio, respectively."
   ]
  },
  {
   "cell_type": "code",
   "execution_count": 12,
   "id": "c4eb2dce",
   "metadata": {},
   "outputs": [],
   "source": [
    "x= data.iloc[:, :-1].values \n",
    "y = data.iloc[:, 1].values "
   ]
  },
  {
   "cell_type": "code",
   "execution_count": 13,
   "id": "663cf6c1",
   "metadata": {},
   "outputs": [],
   "source": [
    "from sklearn.model_selection import train_test_split\n",
    "x_train,x_test,y_train,y_test=train_test_split(x, y, train_size = 0.8,test_size= 0.2, random_state = 0)"
   ]
  },
  {
   "cell_type": "code",
   "execution_count": 14,
   "id": "5c6e114e",
   "metadata": {},
   "outputs": [
    {
     "data": {
      "text/plain": [
       "(20, 1)"
      ]
     },
     "execution_count": 14,
     "metadata": {},
     "output_type": "execute_result"
    }
   ],
   "source": [
    "x_train.shape"
   ]
  },
  {
   "cell_type": "code",
   "execution_count": 15,
   "id": "aa7316ee",
   "metadata": {},
   "outputs": [
    {
     "data": {
      "text/plain": [
       "(5, 1)"
      ]
     },
     "execution_count": 15,
     "metadata": {},
     "output_type": "execute_result"
    }
   ],
   "source": [
    "x_test.shape"
   ]
  },
  {
   "cell_type": "markdown",
   "id": "bdf67f6f",
   "metadata": {},
   "source": [
    "#### 5.2 Training the Algorithm"
   ]
  },
  {
   "cell_type": "code",
   "execution_count": 16,
   "id": "6fb793e7",
   "metadata": {},
   "outputs": [
    {
     "name": "stdout",
     "output_type": "stream",
     "text": [
      "Training complete.\n",
      "\n",
      "The estimates of the parameters are:\n",
      "The regression coefficient of the model is [9.91065648]\n",
      "The constant value of the model is 2.018160041434683\n"
     ]
    }
   ],
   "source": [
    "from sklearn.linear_model import LinearRegression \n",
    "regressor = LinearRegression() \n",
    "model = regressor.fit(x_train,y_train) \n",
    "\n",
    "print(\"Training complete.\\n\")\n",
    "print(\"The estimates of the parameters are:\")\n",
    "      \n",
    "print(\"The regression coefficient of the model is\",regressor.coef_)\n",
    "print(\"The constant value of the model is\",regressor.intercept_)"
   ]
  },
  {
   "cell_type": "markdown",
   "id": "464b5e0e",
   "metadata": {},
   "source": [
    "The fitted regression model is\n",
    "\n",
    " **SCORES= 2.018160+ 9.91065648* HOURS.**\n",
    "\n",
    "The sign of the regression coefficient of HOURS is positive which means when number of study hours increases the score will also increase. That is when the independent variable increases the mean of the dependent variable increases.\n",
    "\n",
    "The intercept term is equal to 2.018160 which is the average score when the regressor is considered to be zero( 0 hour)\n",
    "\n",
    "The coefficient for HOURS is equal to 9.91065 which implies that when the students increases his studying hours by one, his Score will increase by 9.91065%"
   ]
  },
  {
   "cell_type": "markdown",
   "id": "2409b922",
   "metadata": {},
   "source": [
    "#### 5.3 Visualising the fitted line to train data set"
   ]
  },
  {
   "cell_type": "code",
   "execution_count": 17,
   "id": "6b84e389",
   "metadata": {},
   "outputs": [
    {
     "data": {
      "image/png": "[encoded data removed]",
      "text/plain": [
       "<Figure size 640x480 with 1 Axes>"
      ]
     },
     "metadata": {},
     "output_type": "display_data"
    }
   ],
   "source": [
    "import matplotlib.pyplot as plt\n",
    "# Plotting the regression line\n",
    "line = regressor.coef_*x+regressor.intercept_\n",
    "# Plotting for the test data\n",
    "plt.scatter(x, y)\n",
    "plt.plot(x, line,'b');\n",
    "plt.show()"
   ]
  },
  {
   "cell_type": "markdown",
   "id": "511071dc",
   "metadata": {},
   "source": [
    "From the above plot, it can be observed that all the points lies around the regression line which implies that the model is a good fit."
   ]
  },
  {
   "cell_type": "markdown",
   "id": "d0c1fe1e",
   "metadata": {},
   "source": [
    "### 6. Prediction"
   ]
  },
  {
   "cell_type": "code",
   "execution_count": 18,
   "id": "9a7eafb0",
   "metadata": {},
   "outputs": [
    {
     "data": {
      "text/plain": [
       "array([16.88414476, 33.73226078, 75.357018  , 26.79480124, 60.49103328])"
      ]
     },
     "execution_count": 18,
     "metadata": {},
     "output_type": "execute_result"
    }
   ],
   "source": [
    "# Predicting the scores\n",
    "y_pred = regressor.predict(x_test) \n",
    "y_pred"
   ]
  },
  {
   "cell_type": "code",
   "execution_count": 19,
   "id": "8648870e",
   "metadata": {},
   "outputs": [
    {
     "data": {
      "text/html": [
       "<div>\n",
       "<style scoped>\n",
       "    .dataframe tbody tr th:only-of-type {\n",
       "        vertical-align: middle;\n",
       "    }\n",
       "\n",
       "    .dataframe tbody tr th {\n",
       "        vertical-align: top;\n",
       "    }\n",
       "\n",
       "    .dataframe thead th {\n",
       "        text-align: right;\n",
       "    }\n",
       "</style>\n",
       "<table border=\"1\" class=\"dataframe\">\n",
       "  <thead>\n",
       "    <tr style=\"text-align: right;\">\n",
       "      <th></th>\n",
       "      <th>Actual</th>\n",
       "      <th>Predicted</th>\n",
       "    </tr>\n",
       "  </thead>\n",
       "  <tbody>\n",
       "    <tr>\n",
       "      <th>0</th>\n",
       "      <td>20</td>\n",
       "      <td>16.884145</td>\n",
       "    </tr>\n",
       "    <tr>\n",
       "      <th>1</th>\n",
       "      <td>27</td>\n",
       "      <td>33.732261</td>\n",
       "    </tr>\n",
       "    <tr>\n",
       "      <th>2</th>\n",
       "      <td>69</td>\n",
       "      <td>75.357018</td>\n",
       "    </tr>\n",
       "    <tr>\n",
       "      <th>3</th>\n",
       "      <td>30</td>\n",
       "      <td>26.794801</td>\n",
       "    </tr>\n",
       "    <tr>\n",
       "      <th>4</th>\n",
       "      <td>62</td>\n",
       "      <td>60.491033</td>\n",
       "    </tr>\n",
       "  </tbody>\n",
       "</table>\n",
       "</div>"
      ],
      "text/plain": [
       "   Actual  Predicted\n",
       "0      20  16.884145\n",
       "1      27  33.732261\n",
       "2      69  75.357018\n",
       "3      30  26.794801\n",
       "4      62  60.491033"
      ]
     },
     "execution_count": 19,
     "metadata": {},
     "output_type": "execute_result"
    }
   ],
   "source": [
    "# Comparing Actual vs Predicted\n",
    "df = pd.DataFrame({'Actual': y_test, 'Predicted': y_pred})  \n",
    "df"
   ]
  },
  {
   "cell_type": "markdown",
   "id": "ff26ccba",
   "metadata": {},
   "source": [
    "The above values are the actual and predicted scores of the students."
   ]
  },
  {
   "cell_type": "code",
   "execution_count": 20,
   "id": "6540197c",
   "metadata": {},
   "outputs": [
    {
     "name": "stdout",
     "output_type": "stream",
     "text": [
      "No of Hours = 9.25\n",
      "Predicted Score = 93.69173248737538\n"
     ]
    }
   ],
   "source": [
    "hours = 9.25\n",
    "own_pred = regressor.predict([[hours]])\n",
    "print(\"No of Hours = {}\".format(hours))\n",
    "print(\"Predicted Score = {}\".format(own_pred[0]))"
   ]
  },
  {
   "cell_type": "markdown",
   "id": "5f6906df",
   "metadata": {},
   "source": [
    "It can be predicted that **if the student studies for 9.25 hours, the student will score 93.69%**"
   ]
  },
  {
   "cell_type": "code",
   "execution_count": 21,
   "id": "67b55efd",
   "metadata": {},
   "outputs": [
    {
     "name": "stdout",
     "output_type": "stream",
     "text": [
      "The r2 score of the model is 0.9454906892105356\n"
     ]
    }
   ],
   "source": [
    "from sklearn.metrics import r2_score\n",
    "r=r2_score(y_test,y_pred)\n",
    "print(\"The r2 score of the model is\",r)"
   ]
  },
  {
   "cell_type": "markdown",
   "id": "857efc24",
   "metadata": {},
   "source": [
    "The R square value is 0.94 which implies that **94% of the total variation in the scores is explained the number of hours the students study**. Hence the model is a **good fit**\n",
    "   "
   ]
  },
  {
   "cell_type": "markdown",
   "id": "89648e31",
   "metadata": {},
   "source": [
    "### 7. Evaluating the model\n",
    "The final step is to evaluate the performance of algorithm. This step is particularly important to compare how well different algorithms perform on a particular dataset. For simplicity here, we have chosen the mean absolute error.MAE (Mean Absolute Error) is the average absolute error between actual and predicted values. There are many such metrics.\n",
    "   "
   ]
  },
  {
   "cell_type": "code",
   "execution_count": 22,
   "id": "33b7b7ea",
   "metadata": {},
   "outputs": [
    {
     "name": "stdout",
     "output_type": "stream",
     "text": [
      "Mean Absolute Error: 4.183859899002975\n"
     ]
    }
   ],
   "source": [
    "from sklearn import metrics \n",
    "print('Mean Absolute Error:',\n",
    "         metrics.mean_absolute_error(y_test, y_pred)) "
   ]
  },
  {
   "cell_type": "markdown",
   "id": "ff90b219",
   "metadata": {},
   "source": [
    "The average error between the predictions and actuals in this dataset is 4.18, which is likely a good value considering the average actual score is 51.48."
   ]
  },
  {
   "cell_type": "markdown",
   "id": "a4877f3a",
   "metadata": {},
   "source": [
    "### 8. Conclusion\n",
    "\n",
    "* There are 25 observations and 2 variables in this model. There are no null values in the dataset, as can be shown. According to the following descriptive statistics, the average number of hours studied by students is 5 and their average score is 51.480000. \n",
    "\n",
    "* It has also been shown that 50% of students spend 4.8 hours each day studying. Because the correlation between hours and scores is close to one, the variables have a significant positive connection.\n",
    "\n",
    "* According to the scatter plot above, there is a positive linear association between the number of hours studied and the percentage of the score. The box plot above shows that there are no outliers for the predictor variable.\n",
    "\n",
    "* The least and highest number of hours studied by students are 1.1 and 9.3, respectively. The box plot above shows that there are no outliers for the dependent variable. The pupils' lowest and highest percentages are 17% and 94%, respectively. The results are found to be favourably biased.\n",
    "\n",
    "* It can be predicted that if the student studies for 9.25 hours, the student will score 93.69% .The average error between the predictions and actuals in this dataset is 4.18, which is likely a good value considering the average actual score is 51.48. The R square value is 0.94 which implies that 94% of the total variation in the scores is explained the number of hours the students study. Hence the model is a good fit"
   ]
  },
  {
   "cell_type": "markdown",
   "id": "66edbae5",
   "metadata": {},
   "source": [
    "##### THANK YOU !!!"
   ]
  }
 ],
 "metadata": {
  "kernelspec": {
   "display_name": "Python 3 (ipykernel)",
   "language": "python",
   "name": "python3"
  },
  "language_info": {
   "codemirror_mode": {
    "name": "ipython",
    "version": 3
   },
   "file_extension": ".py",
   "mimetype": "text/x-python",
   "name": "python",
   "nbconvert_exporter": "python",
   "pygments_lexer": "ipython3",
   "version": "3.9.7"
  }
 },
 "nbformat": 4,
 "nbformat_minor": 5
}
